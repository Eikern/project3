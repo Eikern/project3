{
 "cells": [
  {
   "cell_type": "code",
   "execution_count": 1,
   "id": "eeaa1a99",
   "metadata": {},
   "outputs": [],
   "source": [
    "import pandas as pd\n",
    "import numpy as np\n",
    "import matplotlib.pyplot as plt"
   ]
  },
  {
   "cell_type": "markdown",
   "id": "fe9f41d4",
   "metadata": {},
   "source": [
    "## ENTSO-E electricity demand data"
   ]
  },
  {
   "cell_type": "code",
   "execution_count": 2,
   "id": "5bb51b21",
   "metadata": {},
   "outputs": [
    {
     "data": {
      "text/html": [
       "<div>\n",
       "<style scoped>\n",
       "    .dataframe tbody tr th:only-of-type {\n",
       "        vertical-align: middle;\n",
       "    }\n",
       "\n",
       "    .dataframe tbody tr th {\n",
       "        vertical-align: top;\n",
       "    }\n",
       "\n",
       "    .dataframe thead th {\n",
       "        text-align: right;\n",
       "    }\n",
       "</style>\n",
       "<table border=\"1\" class=\"dataframe\">\n",
       "  <thead>\n",
       "    <tr style=\"text-align: right;\">\n",
       "      <th></th>\n",
       "      <th>Actual Total Load [MW] - BZN|NO1</th>\n",
       "    </tr>\n",
       "    <tr>\n",
       "      <th>Time (CET/CEST)</th>\n",
       "      <th></th>\n",
       "    </tr>\n",
       "  </thead>\n",
       "  <tbody>\n",
       "    <tr>\n",
       "      <th>2016-01-01 00:00:00</th>\n",
       "      <td>4582.0</td>\n",
       "    </tr>\n",
       "    <tr>\n",
       "      <th>2016-01-01 01:00:00</th>\n",
       "      <td>4482.0</td>\n",
       "    </tr>\n",
       "    <tr>\n",
       "      <th>2016-01-01 02:00:00</th>\n",
       "      <td>4421.0</td>\n",
       "    </tr>\n",
       "    <tr>\n",
       "      <th>2016-01-01 03:00:00</th>\n",
       "      <td>4335.0</td>\n",
       "    </tr>\n",
       "    <tr>\n",
       "      <th>2016-01-01 04:00:00</th>\n",
       "      <td>4304.0</td>\n",
       "    </tr>\n",
       "    <tr>\n",
       "      <th>...</th>\n",
       "      <td>...</td>\n",
       "    </tr>\n",
       "    <tr>\n",
       "      <th>2022-12-31 19:00:00</th>\n",
       "      <td>4824.0</td>\n",
       "    </tr>\n",
       "    <tr>\n",
       "      <th>2022-12-31 20:00:00</th>\n",
       "      <td>4650.0</td>\n",
       "    </tr>\n",
       "    <tr>\n",
       "      <th>2022-12-31 21:00:00</th>\n",
       "      <td>4573.0</td>\n",
       "    </tr>\n",
       "    <tr>\n",
       "      <th>2022-12-31 22:00:00</th>\n",
       "      <td>4453.0</td>\n",
       "    </tr>\n",
       "    <tr>\n",
       "      <th>2022-12-31 23:00:00</th>\n",
       "      <td>4389.0</td>\n",
       "    </tr>\n",
       "  </tbody>\n",
       "</table>\n",
       "<p>61368 rows × 1 columns</p>\n",
       "</div>"
      ],
      "text/plain": [
       "                     Actual Total Load [MW] - BZN|NO1\n",
       "Time (CET/CEST)                                      \n",
       "2016-01-01 00:00:00                            4582.0\n",
       "2016-01-01 01:00:00                            4482.0\n",
       "2016-01-01 02:00:00                            4421.0\n",
       "2016-01-01 03:00:00                            4335.0\n",
       "2016-01-01 04:00:00                            4304.0\n",
       "...                                               ...\n",
       "2022-12-31 19:00:00                            4824.0\n",
       "2022-12-31 20:00:00                            4650.0\n",
       "2022-12-31 21:00:00                            4573.0\n",
       "2022-12-31 22:00:00                            4453.0\n",
       "2022-12-31 23:00:00                            4389.0\n",
       "\n",
       "[61368 rows x 1 columns]"
      ]
     },
     "execution_count": 2,
     "metadata": {},
     "output_type": "execute_result"
    }
   ],
   "source": [
    "yr_2016 = pd.read_csv(\"Total Load - Day Ahead _ Actual_201601010000-201701010000.csv\")\n",
    "yr_2017 = pd.read_csv(\"Total Load - Day Ahead _ Actual_201701010000-201801010000.csv\")\n",
    "yr_2018 = pd.read_csv(\"Total Load - Day Ahead _ Actual_201801010000-201901010000.csv\")\n",
    "yr_2019 = pd.read_csv(\"Total Load - Day Ahead _ Actual_201901010000-202001010000.csv\")\n",
    "yr_2020 = pd.read_csv(\"Total Load - Day Ahead _ Actual_202001010000-202101010000.csv\")\n",
    "yr_2021 = pd.read_csv(\"Total Load - Day Ahead _ Actual_202101010000-202201010000.csv\")\n",
    "yr_2022 = pd.read_csv(\"Total Load - Day Ahead _ Actual_202201010000-202301010000.csv\")\n",
    "\n",
    "demand_dataframes=(yr_2016, yr_2017, yr_2018, yr_2019, yr_2020, yr_2021, yr_2022)\n",
    "\n",
    "demand_2016_2022=pd.DataFrame()\n",
    "#Converts dataframes to datetime files and adding them to get one single dataframe.\n",
    "for dataframe in demand_dataframes:\n",
    "    dataframe.index=pd.to_datetime(dataframe.iloc[:,0].str.split(\" - \").str[0], dayfirst=True)\n",
    "    demand_2016_2022 = pd.concat([demand_2016_2022, dataframe], ignore_index=False)\n",
    "    \n",
    "#deleting unnecessary columns\n",
    "demand_2016_2022=demand_2016_2022.drop([\"Day-ahead Total Load Forecast [MW] - BZN|NO1\"], axis=1)\n",
    "demand_2016_2022=demand_2016_2022.drop([\"Time (CET/CEST)\"], axis=1)\n",
    "\n",
    "#24 NaN values, so I replace them using forward fill.\n",
    "demand_2016_2022[\"Actual Total Load [MW] - BZN|NO1\"].isna().sum()\n",
    "demand_2016_2022[\"Actual Total Load [MW] - BZN|NO1\"].fillna(method='ffill', inplace=True)\n",
    "demand_2016_2022\n",
    "\n",
    "#there are seven too many rows in the dataframe, so I check for duplicates.\n",
    "duplicate_indices = demand_2016_2022.index.duplicated(keep=False)\n",
    "#print(demand_2016_2022[duplicate_indices])\n",
    "\n",
    "#deleting duplicates\n",
    "demand_2016_2022 = demand_2016_2022[~demand_2016_2022.index.duplicated(keep='last')]\n",
    "demand_2016_2022"
   ]
  },
  {
   "cell_type": "markdown",
   "id": "2be23b4b",
   "metadata": {},
   "source": [
    "## Temperature and precipitation data\n",
    "Norsk KlimaServiceSenter (https://seklima.met.no/)"
   ]
  },
  {
   "cell_type": "code",
   "execution_count": 3,
   "id": "48c5d6ee",
   "metadata": {},
   "outputs": [],
   "source": [
    "weather=pd.read_csv(\"Temperature and rain 2016-2022.csv\", sep=';')\n",
    "\n",
    "#deleting the two last columns\n",
    "weather=weather[:-2]\n",
    "\n",
    "#checking for NaN values\n",
    "weather[\"Lufttemperatur\"].isna().sum() #0\n",
    "weather[\"Nedbør (1 t)\"].isna().sum() #0\n",
    "\n",
    "#Changes dataframe index to datetime\n",
    "weather.index=pd.to_datetime(weather.iloc[:,2], dayfirst=True)\n",
    "weather = weather.rename_axis(\"Time (CET/CEST)\")\n",
    "weather=weather.drop([\"Navn\",\"Stasjon\", \"Tid(norsk normaltid)\"], axis=1)"
   ]
  },
  {
   "cell_type": "markdown",
   "id": "2723e503",
   "metadata": {},
   "source": [
    "### Inflation data"
   ]
  },
  {
   "cell_type": "code",
   "execution_count": 38,
   "id": "4f7ba8bb",
   "metadata": {},
   "outputs": [],
   "source": [
    "inf_dataframe=pd.read_csv(\"inflasjon2015_2022.csv\")\n",
    "inf_dataframe.index=inf_dataframe[\"time\"]\n",
    "inf_dataframe = inf_dataframe.rename_axis(\"Time (CET/CEST)\")\n",
    "inf_dataframe = inf_dataframe.drop([\"time\"], axis=1)\n",
    "inf_dataframe.index=pd.to_datetime(inf_dataframe.index)"
   ]
  },
  {
   "cell_type": "markdown",
   "id": "4b33767b",
   "metadata": {},
   "source": [
    "## Creates one common dataframe with both electricity demand and weather data "
   ]
  },
  {
   "cell_type": "code",
   "execution_count": 41,
   "id": "eaf18375",
   "metadata": {},
   "outputs": [],
   "source": [
    "feature_dataframe = pd.merge(weather, demand_2016_2022, on=\"Time (CET/CEST)\")\n",
    "feature_dataframe = pd.merge(feature_dataframe, inf_dataframe, on=\"Time (CET/CEST)\")\n",
    "\n",
    "feature_dataframe.to_csv('feature_dataframe.tsv', sep='\\t', index=False)"
   ]
  },
  {
   "cell_type": "code",
   "execution_count": null,
   "id": "3c9c53aa",
   "metadata": {},
   "outputs": [],
   "source": []
  }
 ],
 "metadata": {
  "kernelspec": {
   "display_name": "Python 3 (ipykernel)",
   "language": "python",
   "name": "python3"
  },
  "language_info": {
   "codemirror_mode": {
    "name": "ipython",
    "version": 3
   },
   "file_extension": ".py",
   "mimetype": "text/x-python",
   "name": "python",
   "nbconvert_exporter": "python",
   "pygments_lexer": "ipython3",
   "version": "3.11.5"
  }
 },
 "nbformat": 4,
 "nbformat_minor": 5
}
